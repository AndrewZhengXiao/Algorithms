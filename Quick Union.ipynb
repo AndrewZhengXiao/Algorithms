{
 "cells": [
  {
   "cell_type": "markdown",
   "metadata": {},
   "source": [
    "## Quick Union\n",
    "    Cost: N\n",
    "    "
   ]
  },
  {
   "cell_type": "code",
   "execution_count": 17,
   "metadata": {},
   "outputs": [],
   "source": [
    "class QuickUnionUF:\n",
    "#     def __init__(self,id):\n",
    "    id =[]\n",
    "    def QuickunionUF(self,N):\n",
    "        self.id =[]\n",
    "        for i in range(N):\n",
    "            self.id.append( i)\n",
    "#             print(i)\n",
    "    \n",
    "    def root(self, i):\n",
    "        while (i != self.id[i]):\n",
    "            i = self.id[i]\n",
    "        return i\n",
    "    \n",
    "    def connected(self,p,q):\n",
    "        return (self.root(p)==self.root(q))\n",
    "    \n",
    "    def union (self, p,q):\n",
    "        i = self.root(p)\n",
    "        j = self.root(q)\n",
    "        self.id[i] = q"
   ]
  },
  {
   "cell_type": "code",
   "execution_count": 21,
   "metadata": {},
   "outputs": [
    {
     "name": "stdout",
     "output_type": "stream",
     "text": [
      "[0, 3, 2, 4, 4, 5, 6, 3, 9, 12, 10, 11, 18, 13, 14, 15, 16, 17, 3, 19]\n"
     ]
    },
    {
     "data": {
      "text/plain": [
       "True"
      ]
     },
     "execution_count": 21,
     "metadata": {},
     "output_type": "execute_result"
    }
   ],
   "source": [
    "Test = QuickUnionUF()\n",
    "Test.QuickunionUF(20)\n",
    "Test.union(1,3)\n",
    "Test.union(1,4)\n",
    "Test.union(7,3)\n",
    "Test.union(8,9)\n",
    "Test.union(9,12)\n",
    "Test.union(12,18)\n",
    "Test.union(18,3)\n",
    "print(Test.id)\n",
    "Test.connected(1,3)"
   ]
  },
  {
   "cell_type": "markdown",
   "metadata": {},
   "source": [
    "## Weighted quick-union:\n",
    "        cost : N , lgN, lgN"
   ]
  },
  {
   "cell_type": "code",
   "execution_count": 74,
   "metadata": {},
   "outputs": [],
   "source": [
    "class WeightedQU:\n",
    "#     def __init__(self,id):\n",
    "    id =[]\n",
    "    sz=[]\n",
    "    def QuickunionUF(self,N):\n",
    "        self.id =[]\n",
    "        self.sz=[]\n",
    "        for i in range(N):\n",
    "            self.id.append( i)\n",
    "            self.sz.append(1)\n",
    "#             print(i)\n",
    "    \n",
    "    def root(self, i):\n",
    "        while (i != self.id[i]):\n",
    "            i = self.id[i]\n",
    "        return i\n",
    "    \n",
    "    def connected(self,p,q):\n",
    "        return (self.root(p)==self.root(q))\n",
    "    \n",
    "    def union (self, p,q):\n",
    "        i = self.root(p)\n",
    "        j = self.root(q)\n",
    "        print (\"[INFO]\",self.sz[i],self.sz[j])\n",
    "        if (i==j): return\n",
    "        if (self.sz[i]<self.sz[j]):\n",
    "            self.id[i]= j\n",
    "            self.sz[j] += self.sz[i]\n",
    "        else:\n",
    "            self.sz[i]+=self.sz[j]\n",
    "            self.id[j] = i\n",
    "        print (self.id)\n",
    "        print(self.sz)\n",
    "        print(\"\\n\")"
   ]
  },
  {
   "cell_type": "code",
   "execution_count": 76,
   "metadata": {},
   "outputs": [
    {
     "name": "stdout",
     "output_type": "stream",
     "text": [
      "[INFO] 1 1\n",
      "[0, 1, 2, 1, 4, 5, 6, 7, 8, 9, 10, 11, 12, 13, 14, 15, 16, 17, 18, 19]\n",
      "[1, 2, 1, 1, 1, 1, 1, 1, 1, 1, 1, 1, 1, 1, 1, 1, 1, 1, 1, 1]\n",
      "\n",
      "\n",
      "[INFO] 2 1\n",
      "[0, 1, 2, 1, 1, 5, 6, 7, 8, 9, 10, 11, 12, 13, 14, 15, 16, 17, 18, 19]\n",
      "[1, 3, 1, 1, 1, 1, 1, 1, 1, 1, 1, 1, 1, 1, 1, 1, 1, 1, 1, 1]\n",
      "\n",
      "\n",
      "[INFO] 1 3\n",
      "[0, 1, 2, 1, 1, 5, 6, 1, 8, 9, 10, 11, 12, 13, 14, 15, 16, 17, 18, 19]\n",
      "[1, 4, 1, 1, 1, 1, 1, 1, 1, 1, 1, 1, 1, 1, 1, 1, 1, 1, 1, 1]\n",
      "\n",
      "\n",
      "[INFO] 1 4\n",
      "[0, 1, 2, 1, 1, 5, 6, 1, 1, 9, 10, 11, 12, 13, 14, 15, 16, 17, 18, 19]\n",
      "[1, 5, 1, 1, 1, 1, 1, 1, 1, 1, 1, 1, 1, 1, 1, 1, 1, 1, 1, 1]\n",
      "\n",
      "\n",
      "[INFO] 1 1\n",
      "[0, 1, 2, 1, 1, 5, 6, 1, 1, 9, 10, 11, 9, 13, 14, 15, 16, 17, 18, 19]\n",
      "[1, 5, 1, 1, 1, 1, 1, 1, 1, 2, 1, 1, 1, 1, 1, 1, 1, 1, 1, 1]\n",
      "\n",
      "\n",
      "[INFO] 2 1\n",
      "[0, 1, 2, 1, 1, 5, 6, 1, 1, 9, 10, 11, 9, 13, 14, 15, 16, 17, 9, 19]\n",
      "[1, 5, 1, 1, 1, 1, 1, 1, 1, 3, 1, 1, 1, 1, 1, 1, 1, 1, 1, 1]\n",
      "\n",
      "\n",
      "[INFO] 3 5\n",
      "[0, 1, 2, 1, 1, 5, 6, 1, 1, 1, 10, 11, 9, 13, 14, 15, 16, 17, 9, 19]\n",
      "[1, 8, 1, 1, 1, 1, 1, 1, 1, 3, 1, 1, 1, 1, 1, 1, 1, 1, 1, 1]\n",
      "\n",
      "\n"
     ]
    }
   ],
   "source": [
    "Test1 = WeightedQU()\n",
    "Test1.QuickunionUF(20)\n",
    "Test1.union(1,3)\n",
    "Test1.union(1,4)\n",
    "Test1.union(7,3)\n",
    "Test1.union(8,7)\n",
    "Test1.union(9,12)\n",
    "Test1.union(12,18)\n",
    "Test1.union(18,3)\n",
    "# print(Test1.sz)\n",
    "# print(Test1.id)\n",
    "# Test1.connected(1,3)"
   ]
  },
  {
   "cell_type": "code",
   "execution_count": null,
   "metadata": {},
   "outputs": [],
   "source": []
  },
  {
   "cell_type": "code",
   "execution_count": null,
   "metadata": {},
   "outputs": [],
   "source": []
  },
  {
   "cell_type": "code",
   "execution_count": null,
   "metadata": {},
   "outputs": [],
   "source": []
  }
 ],
 "metadata": {
  "kernelspec": {
   "display_name": "Python 3",
   "language": "python",
   "name": "python3"
  },
  "language_info": {
   "codemirror_mode": {
    "name": "ipython",
    "version": 3
   },
   "file_extension": ".py",
   "mimetype": "text/x-python",
   "name": "python",
   "nbconvert_exporter": "python",
   "pygments_lexer": "ipython3",
   "version": "3.5.4"
  }
 },
 "nbformat": 4,
 "nbformat_minor": 2
}
