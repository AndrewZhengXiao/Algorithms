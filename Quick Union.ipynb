{
 "cells": [
  {
   "cell_type": "code",
   "execution_count": 1,
   "metadata": {},
   "outputs": [],
   "source": [
    "class QuickUnionUF:\n",
    "#     def __init__(self,id):\n",
    "    id =[]\n",
    "    def QuickunionUF(self,N):\n",
    "        self.id =[]\n",
    "        for i in range(N):\n",
    "            self.id.append( i)\n",
    "#             print(i)\n",
    "    \n",
    "    def root(self, i):\n",
    "        while (i != self.id[i]):\n",
    "            i = self.id[i]\n",
    "        return i\n",
    "    \n",
    "    def connected(self,p,q):\n",
    "        return (self.root(p)==self.root(q))\n",
    "    \n",
    "    def union (self, p,q):\n",
    "        i = self.root(p)\n",
    "        j = self.root(q)\n",
    "        self.id[i] = q"
   ]
  },
  {
   "cell_type": "code",
   "execution_count": 2,
   "metadata": {},
   "outputs": [
    {
     "name": "stdout",
     "output_type": "stream",
     "text": [
      "[0, 3, 2, 3, 4]\n"
     ]
    },
    {
     "data": {
      "text/plain": [
       "True"
      ]
     },
     "execution_count": 2,
     "metadata": {},
     "output_type": "execute_result"
    }
   ],
   "source": [
    "Test = QuickUnionUF()\n",
    "Test.QuickunionUF(5)\n",
    "Test.union(1,3)\n",
    "print(Test.id)\n",
    "Test.connected(1,3)"
   ]
  },
  {
   "cell_type": "code",
   "execution_count": null,
   "metadata": {},
   "outputs": [],
   "source": []
  }
 ],
 "metadata": {
  "kernelspec": {
   "display_name": "Python 3",
   "language": "python",
   "name": "python3"
  },
  "language_info": {
   "codemirror_mode": {
    "name": "ipython",
    "version": 3
   },
   "file_extension": ".py",
   "mimetype": "text/x-python",
   "name": "python",
   "nbconvert_exporter": "python",
   "pygments_lexer": "ipython3",
   "version": "3.5.4"
  }
 },
 "nbformat": 4,
 "nbformat_minor": 2
}
