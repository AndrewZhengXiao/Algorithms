{
 "cells": [
  {
   "cell_type": "code",
   "execution_count": null,
   "metadata": {
    "collapsed": true
   },
   "outputs": [],
   "source": [
    "        "
   ]
  },
  {
   "cell_type": "code",
   "execution_count": 100,
   "metadata": {
    "collapsed": true
   },
   "outputs": [],
   "source": [
    "class Stack:\n",
    "    def __init__(self):\n",
    "        self.items=[]\n",
    "    def isEmpty(self):\n",
    "        return(self.items == [])\n",
    "    def push(self,new_item):\n",
    "        self.items.append(new_item)\n",
    "    def pop(self):\n",
    "        return (self.items.pop())\n",
    "    def peek(self):\n",
    "        return (self.items[len(self.items)-1])\n",
    "    def size(self):\n",
    "        return (len(self.items))\n",
    "    "
   ]
  },
  {
   "cell_type": "code",
   "execution_count": 106,
   "metadata": {},
   "outputs": [
    {
     "name": "stdout",
     "output_type": "stream",
     "text": [
      "<__main__.Stack object at 0x7fe660070128>\n"
     ]
    },
    {
     "data": {
      "text/plain": [
       "'yy'"
      ]
     },
     "execution_count": 106,
     "metadata": {},
     "output_type": "execute_result"
    }
   ],
   "source": [
    "new_stack = Stack()\n",
    "print (new_stack)\n",
    "new_stack.isEmpty\n",
    "new_stack.push(3)\n",
    "new_stack.push(4)\n",
    "new_stack.push(5)\n",
    "new_stack.push(\"ff\")\n",
    "new_stack.push(\"yy\")\n",
    "new_stack.peek()"
   ]
  },
  {
   "cell_type": "code",
   "execution_count": 138,
   "metadata": {},
   "outputs": [],
   "source": [
    "import math\n",
    "class Evaluate:\n",
    "    def __init__(self):\n",
    "        self.ops = Stack()\n",
    "        self.vals = Stack()\n",
    "    def evalu(self,fomula):\n",
    "        for temp in fomula:\n",
    "#             print(temp)\n",
    "            if temp == \"(\":\n",
    "                continue\n",
    "            elif temp == \"+\" or temp == \"-\" or temp == \"*\" or temp == \"/\" or temp == \"s\":\n",
    "                self.ops.push(temp)\n",
    "            elif temp == \")\":\n",
    "                number = self.vals.pop()\n",
    "                op = self.ops.pop()\n",
    "                if op == \"+\":\n",
    "                    cons = number + self.vals.pop()\n",
    "                if op == \"-\":\n",
    "                    cons = number - self.vals.pop()\n",
    "                if op == \"*\":\n",
    "                    cons = number * self.vals.pop()\n",
    "                if op == \"/\":\n",
    "                    cons =   float(self.vals.pop())/float(number) \n",
    "#                     print (\"[info] number is \",number)\n",
    "                if op == \"s\":\n",
    "                    cons = math.sqrt(number)\n",
    "#                     print (cons)\n",
    "                self.vals.push(float(cons))\n",
    "#                 print (\"[INFO] cons is \", cons)\n",
    "            else: \n",
    "                self.vals.push(float(temp))\n",
    "#                 print (self.vals)\n",
    "#             print(self.vals.peek())\n",
    "        print(self.vals.pop())\n",
    "                "
   ]
  },
  {
   "cell_type": "code",
   "execution_count": 140,
   "metadata": {},
   "outputs": [
    {
     "name": "stdout",
     "output_type": "stream",
     "text": [
      "1.618033988749895\n",
      "1.618033988749895\n"
     ]
    }
   ],
   "source": [
    "Test =Evaluate()\n",
    "# Test.evalu(\"(1+((2+3)*(4*5)))\")\n",
    "Test.evalu(\"((s(5)+1)/2)\")\n",
    "# print((math.sqrt(5)+1))\n",
    "print ((math.sqrt(5)+1)/2)"
   ]
  },
  {
   "cell_type": "code",
   "execution_count": null,
   "metadata": {
    "collapsed": true
   },
   "outputs": [],
   "source": []
  },
  {
   "cell_type": "code",
   "execution_count": null,
   "metadata": {
    "collapsed": true
   },
   "outputs": [],
   "source": []
  },
  {
   "cell_type": "code",
   "execution_count": null,
   "metadata": {
    "collapsed": true
   },
   "outputs": [],
   "source": []
  }
 ],
 "metadata": {
  "kernelspec": {
   "display_name": "Python 3",
   "language": "python",
   "name": "python3"
  },
  "language_info": {
   "codemirror_mode": {
    "name": "ipython",
    "version": 3
   },
   "file_extension": ".py",
   "mimetype": "text/x-python",
   "name": "python",
   "nbconvert_exporter": "python",
   "pygments_lexer": "ipython3",
   "version": "3.6.1"
  }
 },
 "nbformat": 4,
 "nbformat_minor": 2
}
