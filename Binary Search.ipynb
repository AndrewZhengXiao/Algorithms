{
 "cells": [
  {
   "cell_type": "code",
   "execution_count": 10,
   "metadata": {},
   "outputs": [
    {
     "name": "stdout",
     "output_type": "stream",
     "text": [
      "-1\n",
      "15\n"
     ]
    }
   ],
   "source": [
    "def rank (array, number):\n",
    "    start = 0\n",
    "    end = len(array)-1\n",
    "    while (start <= end):\n",
    "        mid = int((start + end)/2 )\n",
    "        if number < array[mid]: end = mid-1\n",
    "        elif number > array[mid]: start = mid+1\n",
    "        else: return mid\n",
    "    return -1\n",
    "\n",
    "testarray = [1,3,4,5,6,8,9,10,11,18,20,23,29,80,88]\n",
    "print (rank (testarray, 33))\n",
    "print (len(testarray))"
   ]
  },
  {
   "cell_type": "code",
   "execution_count": null,
   "metadata": {},
   "outputs": [],
   "source": []
  }
 ],
 "metadata": {
  "kernelspec": {
   "display_name": "Python 3",
   "language": "python",
   "name": "python3"
  },
  "language_info": {
   "codemirror_mode": {
    "name": "ipython",
    "version": 3
   },
   "file_extension": ".py",
   "mimetype": "text/x-python",
   "name": "python",
   "nbconvert_exporter": "python",
   "pygments_lexer": "ipython3",
   "version": "3.5.4"
  }
 },
 "nbformat": 4,
 "nbformat_minor": 2
}
